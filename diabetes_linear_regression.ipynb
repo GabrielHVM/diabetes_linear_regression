{
  "nbformat": 4,
  "nbformat_minor": 0,
  "metadata": {
    "colab": {
      "name": "diabetes_linear_regression.ipynb",
      "provenance": [],
      "collapsed_sections": [
        "EBGY7vbac0X-",
        "wvmN4oipd6D3",
        "EC3WvSlkeeAY",
        "qHxmISR5e_Ge",
        "wVc88EL_fNsr"
      ],
      "authorship_tag": "ABX9TyNNwwKA/CMGHiRumqmysi4w"
    },
    "kernelspec": {
      "name": "python3",
      "display_name": "Python 3"
    },
    "language_info": {
      "name": "python"
    }
  },
  "cells": [
    {
      "cell_type": "markdown",
      "metadata": {
        "id": "swiZslNX1lSr"
      },
      "source": [
        "# Regressão Linear\n",
        "\n"
      ]
    },
    {
      "cell_type": "markdown",
      "metadata": {
        "id": "O4Zvy3So1qWH"
      },
      "source": [
        "**Instalação das bibliotecas utilizadas**"
      ]
    },
    {
      "cell_type": "code",
      "metadata": {
        "colab": {
          "base_uri": "https://localhost:8080/"
        },
        "id": "qkBtOuzCwz2E",
        "outputId": "96f1fd70-16b1-4b75-8803-b03cd77b5b05"
      },
      "source": [
        "!pip install numpy sklearn matplotlib"
      ],
      "execution_count": null,
      "outputs": [
        {
          "output_type": "stream",
          "name": "stdout",
          "text": [
            "Requirement already satisfied: numpy in /usr/local/lib/python3.7/dist-packages (1.19.5)\n",
            "Requirement already satisfied: sklearn in /usr/local/lib/python3.7/dist-packages (0.0)\n",
            "Requirement already satisfied: matplotlib in /usr/local/lib/python3.7/dist-packages (3.2.2)\n",
            "Requirement already satisfied: scikit-learn in /usr/local/lib/python3.7/dist-packages (from sklearn) (0.22.2.post1)\n",
            "Requirement already satisfied: python-dateutil>=2.1 in /usr/local/lib/python3.7/dist-packages (from matplotlib) (2.8.2)\n",
            "Requirement already satisfied: pyparsing!=2.0.4,!=2.1.2,!=2.1.6,>=2.0.1 in /usr/local/lib/python3.7/dist-packages (from matplotlib) (2.4.7)\n",
            "Requirement already satisfied: kiwisolver>=1.0.1 in /usr/local/lib/python3.7/dist-packages (from matplotlib) (1.3.2)\n",
            "Requirement already satisfied: cycler>=0.10 in /usr/local/lib/python3.7/dist-packages (from matplotlib) (0.10.0)\n",
            "Requirement already satisfied: six in /usr/local/lib/python3.7/dist-packages (from cycler>=0.10->matplotlib) (1.15.0)\n",
            "Requirement already satisfied: scipy>=0.17.0 in /usr/local/lib/python3.7/dist-packages (from scikit-learn->sklearn) (1.4.1)\n",
            "Requirement already satisfied: joblib>=0.11 in /usr/local/lib/python3.7/dist-packages (from scikit-learn->sklearn) (1.0.1)\n"
          ]
        }
      ]
    },
    {
      "cell_type": "markdown",
      "metadata": {
        "id": "V3ltsui51vP9"
      },
      "source": [
        "**Importação das bibliotecas**"
      ]
    },
    {
      "cell_type": "code",
      "metadata": {
        "id": "9xoQHe6u1kHE"
      },
      "source": [
        "import matplotlib.pyplot as plt\n",
        "import numpy as np\n",
        "from sklearn import linear_model\n",
        "from sklearn.datasets import load_diabetes\n",
        "import pandas"
      ],
      "execution_count": null,
      "outputs": []
    },
    {
      "cell_type": "markdown",
      "metadata": {
        "id": "EpPHshGC12ei"
      },
      "source": [
        "**Carregamento da base de dados de diabetes**"
      ]
    },
    {
      "cell_type": "code",
      "metadata": {
        "id": "bl_MuCQq16yu"
      },
      "source": [
        "diabetes = load_diabetes()"
      ],
      "execution_count": null,
      "outputs": []
    },
    {
      "cell_type": "markdown",
      "metadata": {
        "id": "yzK5iWCF2XD1"
      },
      "source": [
        "**Instânciando Dataframe na base de dados**"
      ]
    },
    {
      "cell_type": "code",
      "metadata": {
        "colab": {
          "base_uri": "https://localhost:8080/",
          "height": 204
        },
        "id": "XUTfeFDr18wj",
        "outputId": "9df867ff-bfb3-4d2d-c71d-a31fad1f0ea9"
      },
      "source": [
        "tabela = pandas.DataFrame(diabetes.data)\n",
        "tabela.columns = diabetes.feature_names\n",
        "tabela.head()"
      ],
      "execution_count": null,
      "outputs": [
        {
          "output_type": "execute_result",
          "data": {
            "text/html": [
              "<div>\n",
              "<style scoped>\n",
              "    .dataframe tbody tr th:only-of-type {\n",
              "        vertical-align: middle;\n",
              "    }\n",
              "\n",
              "    .dataframe tbody tr th {\n",
              "        vertical-align: top;\n",
              "    }\n",
              "\n",
              "    .dataframe thead th {\n",
              "        text-align: right;\n",
              "    }\n",
              "</style>\n",
              "<table border=\"1\" class=\"dataframe\">\n",
              "  <thead>\n",
              "    <tr style=\"text-align: right;\">\n",
              "      <th></th>\n",
              "      <th>age</th>\n",
              "      <th>sex</th>\n",
              "      <th>bmi</th>\n",
              "      <th>bp</th>\n",
              "      <th>s1</th>\n",
              "      <th>s2</th>\n",
              "      <th>s3</th>\n",
              "      <th>s4</th>\n",
              "      <th>s5</th>\n",
              "      <th>s6</th>\n",
              "    </tr>\n",
              "  </thead>\n",
              "  <tbody>\n",
              "    <tr>\n",
              "      <th>0</th>\n",
              "      <td>0.038076</td>\n",
              "      <td>0.050680</td>\n",
              "      <td>0.061696</td>\n",
              "      <td>0.021872</td>\n",
              "      <td>-0.044223</td>\n",
              "      <td>-0.034821</td>\n",
              "      <td>-0.043401</td>\n",
              "      <td>-0.002592</td>\n",
              "      <td>0.019908</td>\n",
              "      <td>-0.017646</td>\n",
              "    </tr>\n",
              "    <tr>\n",
              "      <th>1</th>\n",
              "      <td>-0.001882</td>\n",
              "      <td>-0.044642</td>\n",
              "      <td>-0.051474</td>\n",
              "      <td>-0.026328</td>\n",
              "      <td>-0.008449</td>\n",
              "      <td>-0.019163</td>\n",
              "      <td>0.074412</td>\n",
              "      <td>-0.039493</td>\n",
              "      <td>-0.068330</td>\n",
              "      <td>-0.092204</td>\n",
              "    </tr>\n",
              "    <tr>\n",
              "      <th>2</th>\n",
              "      <td>0.085299</td>\n",
              "      <td>0.050680</td>\n",
              "      <td>0.044451</td>\n",
              "      <td>-0.005671</td>\n",
              "      <td>-0.045599</td>\n",
              "      <td>-0.034194</td>\n",
              "      <td>-0.032356</td>\n",
              "      <td>-0.002592</td>\n",
              "      <td>0.002864</td>\n",
              "      <td>-0.025930</td>\n",
              "    </tr>\n",
              "    <tr>\n",
              "      <th>3</th>\n",
              "      <td>-0.089063</td>\n",
              "      <td>-0.044642</td>\n",
              "      <td>-0.011595</td>\n",
              "      <td>-0.036656</td>\n",
              "      <td>0.012191</td>\n",
              "      <td>0.024991</td>\n",
              "      <td>-0.036038</td>\n",
              "      <td>0.034309</td>\n",
              "      <td>0.022692</td>\n",
              "      <td>-0.009362</td>\n",
              "    </tr>\n",
              "    <tr>\n",
              "      <th>4</th>\n",
              "      <td>0.005383</td>\n",
              "      <td>-0.044642</td>\n",
              "      <td>-0.036385</td>\n",
              "      <td>0.021872</td>\n",
              "      <td>0.003935</td>\n",
              "      <td>0.015596</td>\n",
              "      <td>0.008142</td>\n",
              "      <td>-0.002592</td>\n",
              "      <td>-0.031991</td>\n",
              "      <td>-0.046641</td>\n",
              "    </tr>\n",
              "  </tbody>\n",
              "</table>\n",
              "</div>"
            ],
            "text/plain": [
              "        age       sex       bmi  ...        s4        s5        s6\n",
              "0  0.038076  0.050680  0.061696  ... -0.002592  0.019908 -0.017646\n",
              "1 -0.001882 -0.044642 -0.051474  ... -0.039493 -0.068330 -0.092204\n",
              "2  0.085299  0.050680  0.044451  ... -0.002592  0.002864 -0.025930\n",
              "3 -0.089063 -0.044642 -0.011595  ...  0.034309  0.022692 -0.009362\n",
              "4  0.005383 -0.044642 -0.036385  ... -0.002592 -0.031991 -0.046641\n",
              "\n",
              "[5 rows x 10 columns]"
            ]
          },
          "metadata": {},
          "execution_count": 4
        }
      ]
    },
    {
      "cell_type": "markdown",
      "metadata": {
        "id": "eVMJKu142man"
      },
      "source": [
        "**Inserção das variáveis dependentes (y) na tabela:**"
      ]
    },
    {
      "cell_type": "code",
      "metadata": {
        "colab": {
          "base_uri": "https://localhost:8080/",
          "height": 204
        },
        "id": "aBk0q-Q-2r7x",
        "outputId": "f4006104-1681-481a-ab5f-64905957d8a9"
      },
      "source": [
        "tabela['y'] = diabetes.target\n",
        "tabela.head()"
      ],
      "execution_count": null,
      "outputs": [
        {
          "output_type": "execute_result",
          "data": {
            "text/html": [
              "<div>\n",
              "<style scoped>\n",
              "    .dataframe tbody tr th:only-of-type {\n",
              "        vertical-align: middle;\n",
              "    }\n",
              "\n",
              "    .dataframe tbody tr th {\n",
              "        vertical-align: top;\n",
              "    }\n",
              "\n",
              "    .dataframe thead th {\n",
              "        text-align: right;\n",
              "    }\n",
              "</style>\n",
              "<table border=\"1\" class=\"dataframe\">\n",
              "  <thead>\n",
              "    <tr style=\"text-align: right;\">\n",
              "      <th></th>\n",
              "      <th>age</th>\n",
              "      <th>sex</th>\n",
              "      <th>bmi</th>\n",
              "      <th>bp</th>\n",
              "      <th>s1</th>\n",
              "      <th>s2</th>\n",
              "      <th>s3</th>\n",
              "      <th>s4</th>\n",
              "      <th>s5</th>\n",
              "      <th>s6</th>\n",
              "      <th>y</th>\n",
              "    </tr>\n",
              "  </thead>\n",
              "  <tbody>\n",
              "    <tr>\n",
              "      <th>0</th>\n",
              "      <td>0.038076</td>\n",
              "      <td>0.050680</td>\n",
              "      <td>0.061696</td>\n",
              "      <td>0.021872</td>\n",
              "      <td>-0.044223</td>\n",
              "      <td>-0.034821</td>\n",
              "      <td>-0.043401</td>\n",
              "      <td>-0.002592</td>\n",
              "      <td>0.019908</td>\n",
              "      <td>-0.017646</td>\n",
              "      <td>151.0</td>\n",
              "    </tr>\n",
              "    <tr>\n",
              "      <th>1</th>\n",
              "      <td>-0.001882</td>\n",
              "      <td>-0.044642</td>\n",
              "      <td>-0.051474</td>\n",
              "      <td>-0.026328</td>\n",
              "      <td>-0.008449</td>\n",
              "      <td>-0.019163</td>\n",
              "      <td>0.074412</td>\n",
              "      <td>-0.039493</td>\n",
              "      <td>-0.068330</td>\n",
              "      <td>-0.092204</td>\n",
              "      <td>75.0</td>\n",
              "    </tr>\n",
              "    <tr>\n",
              "      <th>2</th>\n",
              "      <td>0.085299</td>\n",
              "      <td>0.050680</td>\n",
              "      <td>0.044451</td>\n",
              "      <td>-0.005671</td>\n",
              "      <td>-0.045599</td>\n",
              "      <td>-0.034194</td>\n",
              "      <td>-0.032356</td>\n",
              "      <td>-0.002592</td>\n",
              "      <td>0.002864</td>\n",
              "      <td>-0.025930</td>\n",
              "      <td>141.0</td>\n",
              "    </tr>\n",
              "    <tr>\n",
              "      <th>3</th>\n",
              "      <td>-0.089063</td>\n",
              "      <td>-0.044642</td>\n",
              "      <td>-0.011595</td>\n",
              "      <td>-0.036656</td>\n",
              "      <td>0.012191</td>\n",
              "      <td>0.024991</td>\n",
              "      <td>-0.036038</td>\n",
              "      <td>0.034309</td>\n",
              "      <td>0.022692</td>\n",
              "      <td>-0.009362</td>\n",
              "      <td>206.0</td>\n",
              "    </tr>\n",
              "    <tr>\n",
              "      <th>4</th>\n",
              "      <td>0.005383</td>\n",
              "      <td>-0.044642</td>\n",
              "      <td>-0.036385</td>\n",
              "      <td>0.021872</td>\n",
              "      <td>0.003935</td>\n",
              "      <td>0.015596</td>\n",
              "      <td>0.008142</td>\n",
              "      <td>-0.002592</td>\n",
              "      <td>-0.031991</td>\n",
              "      <td>-0.046641</td>\n",
              "      <td>135.0</td>\n",
              "    </tr>\n",
              "  </tbody>\n",
              "</table>\n",
              "</div>"
            ],
            "text/plain": [
              "        age       sex       bmi        bp  ...        s4        s5        s6      y\n",
              "0  0.038076  0.050680  0.061696  0.021872  ... -0.002592  0.019908 -0.017646  151.0\n",
              "1 -0.001882 -0.044642 -0.051474 -0.026328  ... -0.039493 -0.068330 -0.092204   75.0\n",
              "2  0.085299  0.050680  0.044451 -0.005671  ... -0.002592  0.002864 -0.025930  141.0\n",
              "3 -0.089063 -0.044642 -0.011595 -0.036656  ...  0.034309  0.022692 -0.009362  206.0\n",
              "4  0.005383 -0.044642 -0.036385  0.021872  ... -0.002592 -0.031991 -0.046641  135.0\n",
              "\n",
              "[5 rows x 11 columns]"
            ]
          },
          "metadata": {},
          "execution_count": 5
        }
      ]
    },
    {
      "cell_type": "markdown",
      "metadata": {
        "id": "YwgUYiJc4pxn"
      },
      "source": [
        "**Definição das variáveis independentes (Xs):**"
      ]
    },
    {
      "cell_type": "markdown",
      "metadata": {
        "id": "SZApVME55v3W"
      },
      "source": [
        "Variável _age_"
      ]
    },
    {
      "cell_type": "code",
      "metadata": {
        "id": "N0faZoQK5vUB"
      },
      "source": [
        "X_age = tabela['age']\n",
        "X_age_treinamento = X_age[:-20].array.to_numpy().reshape(-1,1)\n",
        "X_age_teste = X_age[-20:].array.to_numpy().reshape(-1,1)"
      ],
      "execution_count": null,
      "outputs": []
    },
    {
      "cell_type": "markdown",
      "metadata": {
        "id": "GsGgsTqT6Eao"
      },
      "source": [
        "Variável _bp_"
      ]
    },
    {
      "cell_type": "code",
      "metadata": {
        "id": "G4lFYKUW6IYM"
      },
      "source": [
        "X_bp = tabela['bp']\n",
        "X_bp_treinamento = X_bp[:-20].array.to_numpy().reshape(-1,1)\n",
        "X_bp_teste = X_bp[-20:].array.to_numpy().reshape(-1,1)"
      ],
      "execution_count": null,
      "outputs": []
    },
    {
      "cell_type": "markdown",
      "metadata": {
        "id": "bBwCmxmHD7pe"
      },
      "source": [
        "Variável _s1_:"
      ]
    },
    {
      "cell_type": "code",
      "metadata": {
        "id": "PILmvjl_D-Ih"
      },
      "source": [
        "X_s1 = tabela['s1']\n",
        "X_s1_treinamento = X_s1[:-20].array.to_numpy().reshape(-1,1)\n",
        "X_s1_teste = X_s1[-20:].array.to_numpy().reshape(-1,1)"
      ],
      "execution_count": null,
      "outputs": []
    },
    {
      "cell_type": "markdown",
      "metadata": {
        "id": "fR4h65A16QFK"
      },
      "source": [
        "**Obtenção das variáveis dependentes (y):**"
      ]
    },
    {
      "cell_type": "code",
      "metadata": {
        "id": "CB6BPk_r6a6j"
      },
      "source": [
        "y = tabela['y']\n",
        "y_treinamento = y[:-20]\n",
        "y_teste = y[-20:].array.to_numpy().reshape(-1,1)"
      ],
      "execution_count": null,
      "outputs": []
    },
    {
      "cell_type": "markdown",
      "metadata": {
        "id": "hYreMsWb72DG"
      },
      "source": [
        "## Modelos\n",
        "\n"
      ]
    },
    {
      "cell_type": "markdown",
      "metadata": {
        "id": "T-sGRpMTIpdN"
      },
      "source": [
        "### **Modelo com variável independente _age_ (Idade):**"
      ]
    },
    {
      "cell_type": "code",
      "metadata": {
        "id": "yIIjXCWv8N2C"
      },
      "source": [
        "regr_age = linear_model.LinearRegression()"
      ],
      "execution_count": null,
      "outputs": []
    },
    {
      "cell_type": "markdown",
      "metadata": {
        "id": "4Muj6noY8i1v"
      },
      "source": [
        "Treinamento do modelo:"
      ]
    },
    {
      "cell_type": "code",
      "metadata": {
        "colab": {
          "base_uri": "https://localhost:8080/"
        },
        "id": "ZXEeL2Bx8gZS",
        "outputId": "46410cb0-aa25-40a1-9906-8f8b9e28c369"
      },
      "source": [
        "regr_age.fit(X_age_treinamento, y_treinamento)"
      ],
      "execution_count": null,
      "outputs": [
        {
          "output_type": "execute_result",
          "data": {
            "text/plain": [
              "LinearRegression(copy_X=True, fit_intercept=True, n_jobs=None, normalize=False)"
            ]
          },
          "metadata": {},
          "execution_count": 11
        }
      ]
    },
    {
      "cell_type": "markdown",
      "metadata": {
        "id": "2rlwkZYg-IYB"
      },
      "source": [
        "Predição do modelo:"
      ]
    },
    {
      "cell_type": "code",
      "metadata": {
        "id": "rRJVvGIc-KUv"
      },
      "source": [
        "age_y_pred = regr_age.predict(X_age_teste)"
      ],
      "execution_count": null,
      "outputs": []
    },
    {
      "cell_type": "markdown",
      "metadata": {
        "id": "aK5_A4DI-jBB"
      },
      "source": [
        "_Plot_ dos dados:"
      ]
    },
    {
      "cell_type": "code",
      "metadata": {
        "colab": {
          "base_uri": "https://localhost:8080/",
          "height": 267
        },
        "id": "BXzxo8u_-mJ-",
        "outputId": "81ac5103-2c0f-431e-9ac5-332dd233702f"
      },
      "source": [
        "plt.scatter(X_age_teste,y_teste,  color='black')\n",
        "\n",
        "plt.plot(X_age_teste, age_y_pred, color='blue', linewidth=3)\n",
        "\n",
        "plt.xticks(())\n",
        "plt.yticks(())\n",
        "plt.xlabel(\"Idade\", size = 16,)\n",
        "plt.ylabel(\"Progressão da diabetes\", size = 16)\n",
        "plt.show()"
      ],
      "execution_count": null,
      "outputs": [
        {
          "output_type": "display_data",
          "data": {
            "image/png": "[encoded data removed]",
            "text/plain": [
              "<Figure size 432x288 with 1 Axes>"
            ]
          },
          "metadata": {}
        }
      ]
    },
    {
      "cell_type": "markdown",
      "metadata": {
        "id": "zmbkHSh1-wyz"
      },
      "source": [
        "Cálculo do erro utilizando a média da distância:"
      ]
    },
    {
      "cell_type": "code",
      "metadata": {
        "colab": {
          "base_uri": "https://localhost:8080/"
        },
        "id": "ORvAJxKr-5uf",
        "outputId": "6c73ff9c-d2b7-4395-9e58-49f2189ace1d"
      },
      "source": [
        "error_age_abs = sum(abs(y_teste-age_y_pred.reshape(-1,1)))\n",
        "print('Erro médio: ', error_age_abs)"
      ],
      "execution_count": null,
      "outputs": [
        {
          "output_type": "stream",
          "name": "stdout",
          "text": [
            "Erro médio:  [1311.1629406]\n"
          ]
        }
      ]
    },
    {
      "cell_type": "markdown",
      "metadata": {
        "id": "TIp8D4DVAZsR"
      },
      "source": [
        "Cálculo do erro utilizando _mean squared error_ (Erro quadrático médio - MSE):"
      ]
    },
    {
      "cell_type": "code",
      "metadata": {
        "colab": {
          "base_uri": "https://localhost:8080/"
        },
        "id": "d6-f7gLe-8N5",
        "outputId": "1a8c96ba-8bf9-4691-915a-d34b06d5ff66"
      },
      "source": [
        "error_age_mse = sum((y_teste-age_y_pred.reshape(-1,1))**2)/len(X_age_teste)\n",
        "print('Erro MSE: ', error_age_mse)"
      ],
      "execution_count": null,
      "outputs": [
        {
          "output_type": "stream",
          "name": "stdout",
          "text": [
            "Erro MSE:  [5472.2646731]\n"
          ]
        }
      ]
    },
    {
      "cell_type": "markdown",
      "metadata": {
        "id": "Gq_XjuxhDvOT"
      },
      "source": [
        "### **Modelo com variável independente _bp_ (Pressão sanguínea média):**"
      ]
    },
    {
      "cell_type": "code",
      "metadata": {
        "id": "iQFi2G2yFyKB"
      },
      "source": [
        "regr_bp = linear_model.LinearRegression()"
      ],
      "execution_count": null,
      "outputs": []
    },
    {
      "cell_type": "markdown",
      "metadata": {
        "id": "lMoLkcM1F4J2"
      },
      "source": [
        "Treinamento do modelo :"
      ]
    },
    {
      "cell_type": "code",
      "metadata": {
        "colab": {
          "base_uri": "https://localhost:8080/"
        },
        "id": "56y6LWnoF8g5",
        "outputId": "3986285d-040e-4030-b81b-92f3dc0d65eb"
      },
      "source": [
        "regr_bp.fit(X_bp_treinamento, y_treinamento)"
      ],
      "execution_count": null,
      "outputs": [
        {
          "output_type": "execute_result",
          "data": {
            "text/plain": [
              "LinearRegression(copy_X=True, fit_intercept=True, n_jobs=None, normalize=False)"
            ]
          },
          "metadata": {},
          "execution_count": 17
        }
      ]
    },
    {
      "cell_type": "markdown",
      "metadata": {
        "id": "0y6Dc5D8GbAU"
      },
      "source": [
        "Predição do modelo:"
      ]
    },
    {
      "cell_type": "code",
      "metadata": {
        "id": "7Dpy15quGbjg"
      },
      "source": [
        "bp_y_pred = regr_bp.predict(X_bp_teste)"
      ],
      "execution_count": null,
      "outputs": []
    },
    {
      "cell_type": "markdown",
      "metadata": {
        "id": "cnsKvkfWGgDt"
      },
      "source": [
        "_Plot_ dos dados:"
      ]
    },
    {
      "cell_type": "code",
      "metadata": {
        "colab": {
          "base_uri": "https://localhost:8080/",
          "height": 268
        },
        "id": "-nM3R-SUGg8U",
        "outputId": "009690c3-a1fe-4490-a6b2-8d0b640bf6bf"
      },
      "source": [
        "plt.scatter(X_bp_teste,y_teste,  color='black')\n",
        "\n",
        "plt.plot(X_bp_teste, bp_y_pred, color='blue', linewidth=3)\n",
        "\n",
        "plt.xticks(())\n",
        "plt.yticks(())\n",
        "plt.xlabel(\"Pressão sanguínea média\", size = 16,)\n",
        "plt.ylabel(\"Progressão da diabetes\", size = 16)\n",
        "plt.show()"
      ],
      "execution_count": null,
      "outputs": [
        {
          "output_type": "display_data",
          "data": {
            "image/png": "[encoded data removed]",
            "text/plain": [
              "<Figure size 432x288 with 1 Axes>"
            ]
          },
          "metadata": {}
        }
      ]
    },
    {
      "cell_type": "markdown",
      "metadata": {
        "id": "bx8ZnmvwJBON"
      },
      "source": [
        "Cálculo do erro utilizando a média da distância:"
      ]
    },
    {
      "cell_type": "code",
      "metadata": {
        "colab": {
          "base_uri": "https://localhost:8080/"
        },
        "id": "udqO4e7iJBlc",
        "outputId": "ad40ac86-1a7c-47c8-906e-4c541a15c2ed"
      },
      "source": [
        "error_bp_abs = sum(abs(y_teste-bp_y_pred.reshape(-1,1)))\n",
        "print('Erro médio: ', error_bp_abs)"
      ],
      "execution_count": null,
      "outputs": [
        {
          "output_type": "stream",
          "name": "stdout",
          "text": [
            "Erro médio:  [1142.55880778]\n"
          ]
        }
      ]
    },
    {
      "cell_type": "markdown",
      "metadata": {
        "id": "cJFFq4a3JG_3"
      },
      "source": [
        "Cálculo do erro utilizando _mean squared error_ (Erro quadrático médio - MSE):"
      ]
    },
    {
      "cell_type": "code",
      "metadata": {
        "colab": {
          "base_uri": "https://localhost:8080/"
        },
        "id": "E6JdySxdJNSw",
        "outputId": "5f8c3cff-1ecf-4a26-a557-4e1337624cda"
      },
      "source": [
        "error_bp_mse = sum((y_teste-bp_y_pred.reshape(-1,1))**2)/len(X_bp_teste)\n",
        "print('Erro MSE: ', error_bp_mse)"
      ],
      "execution_count": null,
      "outputs": [
        {
          "output_type": "stream",
          "name": "stdout",
          "text": [
            "Erro MSE:  [4058.41028914]\n"
          ]
        }
      ]
    },
    {
      "cell_type": "markdown",
      "metadata": {
        "id": "alGBjUJUH5QP"
      },
      "source": [
        "### **Modelo com variável independente s1 (medição de soro sanguíneo 1):**"
      ]
    },
    {
      "cell_type": "code",
      "metadata": {
        "id": "MdHs9LnoICEH"
      },
      "source": [
        "regr_s1 = linear_model.LinearRegression()"
      ],
      "execution_count": null,
      "outputs": []
    },
    {
      "cell_type": "markdown",
      "metadata": {
        "id": "yAQhfxfgIUC8"
      },
      "source": [
        "Treinamento do modelo :"
      ]
    },
    {
      "cell_type": "code",
      "metadata": {
        "colab": {
          "base_uri": "https://localhost:8080/"
        },
        "id": "BbHMY6PMIUnm",
        "outputId": "4f253f2e-9017-4f83-cc66-db8e4fd9571a"
      },
      "source": [
        "regr_s1.fit(X_s1_treinamento, y_treinamento)"
      ],
      "execution_count": null,
      "outputs": [
        {
          "output_type": "execute_result",
          "data": {
            "text/plain": [
              "LinearRegression(copy_X=True, fit_intercept=True, n_jobs=None, normalize=False)"
            ]
          },
          "metadata": {},
          "execution_count": 23
        }
      ]
    },
    {
      "cell_type": "markdown",
      "metadata": {
        "id": "udUjDi4gIgEw"
      },
      "source": [
        "Predição do modelo:"
      ]
    },
    {
      "cell_type": "code",
      "metadata": {
        "id": "yKDxSDhoIgu9"
      },
      "source": [
        "s1_y_pred = regr_s1.predict(X_s1_teste)"
      ],
      "execution_count": null,
      "outputs": []
    },
    {
      "cell_type": "markdown",
      "metadata": {
        "id": "GzhxTy0fIxDR"
      },
      "source": [
        "Plot dos dados:"
      ]
    },
    {
      "cell_type": "code",
      "metadata": {
        "colab": {
          "base_uri": "https://localhost:8080/",
          "height": 268
        },
        "id": "boU26b9aIzKk",
        "outputId": "d0153a3d-1346-4e11-8a80-9879508c077c"
      },
      "source": [
        "plt.scatter(X_s1_teste,y_teste,  color='black')\n",
        "\n",
        "plt.plot(X_s1_teste, s1_y_pred, color='blue', linewidth=3)\n",
        "\n",
        "plt.xticks(())\n",
        "plt.yticks(())\n",
        "plt.xlabel(\"medição de soro sanguíneo 1\", size = 16,)\n",
        "plt.ylabel(\"Progressão da diabetes\", size = 16)\n",
        "plt.show()"
      ],
      "execution_count": null,
      "outputs": [
        {
          "output_type": "display_data",
          "data": {
            "image/png": "[encoded data removed]",
            "text/plain": [
              "<Figure size 432x288 with 1 Axes>"
            ]
          },
          "metadata": {}
        }
      ]
    },
    {
      "cell_type": "markdown",
      "metadata": {
        "id": "8-B-UUdsJVMc"
      },
      "source": [
        "Cálculo do erro utilizando a média da distância:"
      ]
    },
    {
      "cell_type": "code",
      "metadata": {
        "colab": {
          "base_uri": "https://localhost:8080/"
        },
        "id": "ukT5jwr8JVt2",
        "outputId": "036ba4bc-9db5-4e47-8f8f-e2f2d13a72c2"
      },
      "source": [
        "error_s1_abs = sum(abs(y_teste-s1_y_pred.reshape(-1,1)))\n",
        "print('Erro médio: ', error_s1_abs)"
      ],
      "execution_count": null,
      "outputs": [
        {
          "output_type": "stream",
          "name": "stdout",
          "text": [
            "Erro médio:  [1303.43409745]\n"
          ]
        }
      ]
    },
    {
      "cell_type": "markdown",
      "metadata": {
        "id": "5F0a1U-4JZvV"
      },
      "source": [
        "Cálculo do erro utilizando _mean squared error_ (Erro quadrático médio - MSE):"
      ]
    },
    {
      "cell_type": "code",
      "metadata": {
        "colab": {
          "base_uri": "https://localhost:8080/"
        },
        "id": "TISGkP5TJga1",
        "outputId": "62a41426-f27d-458a-8fe6-5a50e23d7a35"
      },
      "source": [
        "error_s1_mse = sum((y_teste-s1_y_pred.reshape(-1,1))**2)/len(X_s1_teste)\n",
        "print('Erro MSE: ', error_s1_mse)"
      ],
      "execution_count": null,
      "outputs": [
        {
          "output_type": "stream",
          "name": "stdout",
          "text": [
            "Erro MSE:  [5608.69544096]\n"
          ]
        }
      ]
    },
    {
      "cell_type": "markdown",
      "metadata": {
        "id": "__uCii56Jotn"
      },
      "source": [
        "### **Regressão com duas variáveis (bp e s1):**"
      ]
    },
    {
      "cell_type": "markdown",
      "metadata": {
        "id": "_ghAhJhyJ2-a"
      },
      "source": [
        "Regressão com várias variáveis\n",
        "\n",
        "Para realizar a regressão linear entre duas variáveis vamos recorrer a fórmula da regressão linear múltipla:\n",
        "\n",
        "${Y'} = {\\beta}_{0} + \\sum \\limits _{j=1} ^{n} X_{j}{\\beta}_{j} $\n",
        "\n",
        "Onde,\n",
        "\n",
        "${Y'}$ =>  Valor a ser predito;\n",
        "\n",
        "${\\beta}_{0}$ => Intercepto;\n",
        "\n",
        "${n}$ => Quantidade de variáveis independentes;\n",
        "\n",
        "$X_{j}$ => Valor da j-éssima variável independente;\n",
        "\n",
        "${\\beta}_{j}$ => Inclinação da reta da j-éssima variável independente.\n",
        "\n",
        "**Obs.: O sklearn já provém a regressão linear multipla ao passarmos as multiplas variáveis no treinamento do modelo.**"
      ]
    },
    {
      "cell_type": "markdown",
      "metadata": {
        "id": "Q221hwa3XGVW"
      },
      "source": [
        "**Definição das variáveis independentes:**"
      ]
    },
    {
      "cell_type": "code",
      "metadata": {
        "id": "pN11V8mQXWEU"
      },
      "source": [
        "X_s1_bp = tabela.loc[:,'bp':'s1'] #Acessa as colunas bp e s1\n",
        "X_s1_bp_treinamento = X_s1_bp.head(X_s1_bp.shape[0] - 20) # Exclui os ultimos 20 dados\n",
        "X_s1_bp_teste = X_s1_bp.tail(20) # 20 dados de teste"
      ],
      "execution_count": null,
      "outputs": []
    },
    {
      "cell_type": "markdown",
      "metadata": {
        "id": "vKL3dc-SXiBC"
      },
      "source": [
        "Modelo:"
      ]
    },
    {
      "cell_type": "code",
      "metadata": {
        "id": "M9LbqvzQXnbb"
      },
      "source": [
        "regr_s1_bp = linear_model.LinearRegression()"
      ],
      "execution_count": null,
      "outputs": []
    },
    {
      "cell_type": "markdown",
      "metadata": {
        "id": "rvA-4zErXv-7"
      },
      "source": [
        "Treinamento do Modelo:"
      ]
    },
    {
      "cell_type": "code",
      "metadata": {
        "colab": {
          "base_uri": "https://localhost:8080/"
        },
        "id": "OdMay5YKXxyL",
        "outputId": "89f3064f-df48-41de-9b66-bdb5211ab902"
      },
      "source": [
        "regr_s1_bp.fit(X_s1_bp_treinamento, y_treinamento)"
      ],
      "execution_count": null,
      "outputs": [
        {
          "output_type": "execute_result",
          "data": {
            "text/plain": [
              "LinearRegression(copy_X=True, fit_intercept=True, n_jobs=None, normalize=False)"
            ]
          },
          "metadata": {},
          "execution_count": 30
        }
      ]
    },
    {
      "cell_type": "markdown",
      "metadata": {
        "id": "w2d0aljGYP3r"
      },
      "source": [
        "Coeficientes:"
      ]
    },
    {
      "cell_type": "code",
      "metadata": {
        "colab": {
          "base_uri": "https://localhost:8080/"
        },
        "id": "Gwdt1ER-YRcF",
        "outputId": "7f595418-ef7c-475b-a734-d216ac696cab"
      },
      "source": [
        "print(f'B0 = {regr_s1_bp.intercept_}')\n",
        "print(f'B1 = {regr_s1_bp.coef_[0]}')\n",
        "print(f'B2 = {regr_s1_bp.coef_[1]}')"
      ],
      "execution_count": null,
      "outputs": [
        {
          "output_type": "stream",
          "name": "stdout",
          "text": [
            "B0 = 153.25196927759404\n",
            "B1 = 662.7072380183704\n",
            "B2 = 187.84319495911197\n"
          ]
        }
      ]
    },
    {
      "cell_type": "markdown",
      "metadata": {
        "id": "UfAJFDy6YMRz"
      },
      "source": [
        "Sendo assim, teremos:\n",
        "\n",
        "${Y'} = 153.25196927759404 + X_{1}662.7072380183704  + X_{2} 187.84319495911197$"
      ]
    },
    {
      "cell_type": "markdown",
      "metadata": {
        "id": "N7f7s0xGYDTM"
      },
      "source": [
        "Predição do modelo:"
      ]
    },
    {
      "cell_type": "code",
      "metadata": {
        "id": "UnLMABlTYFj0"
      },
      "source": [
        "s1_bp_y_pred = regr_s1_bp.predict(X_s1_bp_teste)"
      ],
      "execution_count": null,
      "outputs": []
    },
    {
      "cell_type": "markdown",
      "metadata": {
        "id": "rXONR_EQWbDi"
      },
      "source": [
        "Cálculo do erro utilizando a média da distância:"
      ]
    },
    {
      "cell_type": "code",
      "metadata": {
        "colab": {
          "base_uri": "https://localhost:8080/"
        },
        "id": "zjpBQnOya5nO",
        "outputId": "8eab584b-402c-4def-e0ca-85625a85354c"
      },
      "source": [
        "error_s1_bp_abs = sum(abs(y_teste-s1_bp_y_pred.reshape(-1,1)))\n",
        "print('Erro médio: ', error_s1_bp_abs)"
      ],
      "execution_count": null,
      "outputs": [
        {
          "output_type": "stream",
          "name": "stdout",
          "text": [
            "Erro médio:  [1151.32762762]\n"
          ]
        }
      ]
    },
    {
      "cell_type": "markdown",
      "metadata": {
        "id": "gOwgNuZqa_40"
      },
      "source": [
        "Cálculo do erro utilizando _mean squared error_ (Erro quadrático médio - MSE):"
      ]
    },
    {
      "cell_type": "code",
      "metadata": {
        "colab": {
          "base_uri": "https://localhost:8080/"
        },
        "id": "ChdLmpRjbCko",
        "outputId": "282cd840-7a5a-4e0f-fdd1-005222f1194c"
      },
      "source": [
        "error_s1_bp_mse = sum((y_teste-s1_bp_y_pred.reshape(-1,1))**2)/len(X_s1_bp_teste)\n",
        "print('Erro MSE: ', error_s1_bp_mse)"
      ],
      "execution_count": null,
      "outputs": [
        {
          "output_type": "stream",
          "name": "stdout",
          "text": [
            "Erro MSE:  [4105.8312145]\n"
          ]
        }
      ]
    },
    {
      "cell_type": "markdown",
      "metadata": {
        "id": "nfauDttCcxJ1"
      },
      "source": [
        "### Comparação entre modelos:"
      ]
    },
    {
      "cell_type": "markdown",
      "metadata": {
        "id": "EBGY7vbac0X-"
      },
      "source": [
        "#### **Comparação visual entre os modelos das variáveis _age_, _bp_ e _s1_:**"
      ]
    },
    {
      "cell_type": "markdown",
      "metadata": {
        "id": "LkHtvIlzc_Pz"
      },
      "source": [
        "Modelo _age_:"
      ]
    },
    {
      "cell_type": "code",
      "metadata": {
        "colab": {
          "base_uri": "https://localhost:8080/"
        },
        "id": "pPftemlZdIDc",
        "outputId": "c15598ae-47f2-4dcb-92d6-3921e06a1d7f"
      },
      "source": [
        "plt.scatter(X_age_teste,y_teste,  color='black')\n",
        "\n",
        "plt.plot(X_age_teste, age_y_pred, color='blue', linewidth=3)\n",
        "\n",
        "plt.xticks(())\n",
        "plt.yticks(())\n",
        "plt.xlabel(\"Idade\", size = 16,)\n",
        "plt.ylabel(\"Progressão da diabetes\", size = 16)\n",
        "plt.show()"
      ],
      "execution_count": null,
      "outputs": [
        {
          "output_type": "display_data",
          "data": {
            "image/png": "[encoded data removed]",
            "text/plain": [
              "<Figure size 432x288 with 1 Axes>"
            ]
          },
          "metadata": {}
        }
      ]
    },
    {
      "cell_type": "markdown",
      "metadata": {
        "id": "uDnxJgoJdBul"
      },
      "source": [
        "Modelo _bp_:"
      ]
    },
    {
      "cell_type": "code",
      "metadata": {
        "colab": {
          "base_uri": "https://localhost:8080/"
        },
        "id": "sw3SNIlidNGv",
        "outputId": "c8a4be48-68cc-43f5-b71a-62cd45ca1e85"
      },
      "source": [
        "plt.scatter(X_bp_teste,y_teste,  color='black')\n",
        "\n",
        "plt.plot(X_bp_teste, bp_y_pred, color='blue', linewidth=3)\n",
        "\n",
        "plt.xticks(())\n",
        "plt.yticks(())\n",
        "plt.xlabel(\"Pressão sanguínea média\", size = 16,)\n",
        "plt.ylabel(\"Progressão da diabetes\", size = 16)\n",
        "plt.show()"
      ],
      "execution_count": null,
      "outputs": [
        {
          "output_type": "display_data",
          "data": {
            "image/png": "[encoded data removed]",
            "text/plain": [
              "<Figure size 432x288 with 1 Axes>"
            ]
          },
          "metadata": {}
        }
      ]
    },
    {
      "cell_type": "markdown",
      "metadata": {
        "id": "iEca4oe5dDfj"
      },
      "source": [
        "Modelo _s1_:"
      ]
    },
    {
      "cell_type": "code",
      "metadata": {
        "colab": {
          "base_uri": "https://localhost:8080/"
        },
        "id": "7KY2E48IdVzX",
        "outputId": "40fa3e9d-1603-460a-ccf4-e50dc5fb665c"
      },
      "source": [
        "plt.scatter(X_s1_teste,y_teste,  color='black')\n",
        "\n",
        "plt.plot(X_s1_teste, s1_y_pred, color='blue', linewidth=3)\n",
        "\n",
        "plt.xticks(())\n",
        "plt.yticks(())\n",
        "plt.xlabel(\"medição de soro sanguíneo 1\", size = 16,)\n",
        "plt.ylabel(\"Progressão da diabetes\", size = 16)\n",
        "plt.show()"
      ],
      "execution_count": null,
      "outputs": [
        {
          "output_type": "display_data",
          "data": {
            "image/png": "[encoded data removed]",
            "text/plain": [
              "<Figure size 432x288 with 1 Axes>"
            ]
          },
          "metadata": {}
        }
      ]
    },
    {
      "cell_type": "markdown",
      "metadata": {
        "id": "7PwtR7o8ds_l"
      },
      "source": [
        "### **Comparação entre os erros dos modelos de regressão linear simples e regressão linear múltipla**"
      ]
    },
    {
      "cell_type": "markdown",
      "metadata": {
        "id": "wvmN4oipd6D3"
      },
      "source": [
        "#### **Modelo _age_:**"
      ]
    },
    {
      "cell_type": "markdown",
      "metadata": {
        "id": "T4sQ-eXseDFH"
      },
      "source": [
        "Erro da média da distância:"
      ]
    },
    {
      "cell_type": "code",
      "metadata": {
        "colab": {
          "base_uri": "https://localhost:8080/"
        },
        "id": "4bUbOVfCeXvM",
        "outputId": "4d01621d-5a55-4002-e07a-afbee66ee377"
      },
      "source": [
        "print(error_age_abs)"
      ],
      "execution_count": null,
      "outputs": [
        {
          "output_type": "stream",
          "name": "stdout",
          "text": [
            "[1311.1629406]\n"
          ]
        }
      ]
    },
    {
      "cell_type": "markdown",
      "metadata": {
        "id": "sA8SmDU_eMnV"
      },
      "source": [
        "Erro quadrático médio (MSE):"
      ]
    },
    {
      "cell_type": "code",
      "metadata": {
        "colab": {
          "base_uri": "https://localhost:8080/"
        },
        "id": "eE63uHf8ea70",
        "outputId": "d337d8cd-079a-4455-88d3-47b61a8f814d"
      },
      "source": [
        "print(error_age_mse)"
      ],
      "execution_count": null,
      "outputs": [
        {
          "output_type": "stream",
          "name": "stdout",
          "text": [
            "[5472.2646731]\n"
          ]
        }
      ]
    },
    {
      "cell_type": "markdown",
      "metadata": {
        "id": "EC3WvSlkeeAY"
      },
      "source": [
        "#### **Modelo _bp_**:"
      ]
    },
    {
      "cell_type": "markdown",
      "metadata": {
        "id": "G0CzQQfqek4L"
      },
      "source": [
        "Erro da média da distância:"
      ]
    },
    {
      "cell_type": "code",
      "metadata": {
        "colab": {
          "base_uri": "https://localhost:8080/"
        },
        "id": "k6UpoX69entP",
        "outputId": "9680201d-2ec0-4041-8d3c-9a34b07477e7"
      },
      "source": [
        "print(error_bp_abs)"
      ],
      "execution_count": null,
      "outputs": [
        {
          "output_type": "stream",
          "name": "stdout",
          "text": [
            "[1142.55880778]\n"
          ]
        }
      ]
    },
    {
      "cell_type": "markdown",
      "metadata": {
        "id": "gdZUHSbje6L6"
      },
      "source": [
        "Erro quadrático médio (MSE):"
      ]
    },
    {
      "cell_type": "code",
      "metadata": {
        "colab": {
          "base_uri": "https://localhost:8080/"
        },
        "id": "VP5MGKJ9e9HZ",
        "outputId": "74f16a08-9da4-4071-80a8-c4a9eb0af38c"
      },
      "source": [
        "print(error_bp_mse)"
      ],
      "execution_count": null,
      "outputs": [
        {
          "output_type": "stream",
          "name": "stdout",
          "text": [
            "[4058.41028914]\n"
          ]
        }
      ]
    },
    {
      "cell_type": "markdown",
      "metadata": {
        "id": "qHxmISR5e_Ge"
      },
      "source": [
        "#### **Modelo _s1_:**"
      ]
    },
    {
      "cell_type": "markdown",
      "metadata": {
        "id": "lXlt5Rf4fDxr"
      },
      "source": [
        "Erro da média da distância:"
      ]
    },
    {
      "cell_type": "code",
      "metadata": {
        "colab": {
          "base_uri": "https://localhost:8080/"
        },
        "id": "N7EFQi-sfF7k",
        "outputId": "9501949f-660f-4910-eb9b-d6e6a33b18cd"
      },
      "source": [
        "print(error_s1_abs)"
      ],
      "execution_count": null,
      "outputs": [
        {
          "output_type": "stream",
          "name": "stdout",
          "text": [
            "[1303.43409745]\n"
          ]
        }
      ]
    },
    {
      "cell_type": "markdown",
      "metadata": {
        "id": "f85jUe6AfIfy"
      },
      "source": [
        "Erro quadrático médio (MSE):"
      ]
    },
    {
      "cell_type": "code",
      "metadata": {
        "colab": {
          "base_uri": "https://localhost:8080/"
        },
        "id": "btJaMyAxfL-A",
        "outputId": "f7c3c54d-f4de-4738-cbb6-235304a99fd6"
      },
      "source": [
        "print(error_s1_mse)"
      ],
      "execution_count": null,
      "outputs": [
        {
          "output_type": "stream",
          "name": "stdout",
          "text": [
            "[5608.69544096]\n"
          ]
        }
      ]
    },
    {
      "cell_type": "markdown",
      "metadata": {
        "id": "wVc88EL_fNsr"
      },
      "source": [
        "#### **Modelo múltiplo _s1_ e _bp_**:"
      ]
    },
    {
      "cell_type": "markdown",
      "metadata": {
        "id": "tI2YqH5tfVGc"
      },
      "source": [
        "Erro da média da distância:"
      ]
    },
    {
      "cell_type": "code",
      "metadata": {
        "colab": {
          "base_uri": "https://localhost:8080/"
        },
        "id": "a3HacNGGfUWJ",
        "outputId": "37dda989-9b02-4a22-b81d-075b4bb2b7aa"
      },
      "source": [
        "print(error_s1_bp_abs)"
      ],
      "execution_count": null,
      "outputs": [
        {
          "output_type": "stream",
          "name": "stdout",
          "text": [
            "[1151.32762762]\n"
          ]
        }
      ]
    },
    {
      "cell_type": "markdown",
      "metadata": {
        "id": "0x-OAQsGfdZZ"
      },
      "source": [
        "Erro quadrático médio (MSE):"
      ]
    },
    {
      "cell_type": "code",
      "metadata": {
        "colab": {
          "base_uri": "https://localhost:8080/"
        },
        "id": "NQavvzEJfgfU",
        "outputId": "f36aff54-a905-4a9c-8fc1-ce8a74ff2d05"
      },
      "source": [
        "print(error_s1_bp_mse)"
      ],
      "execution_count": null,
      "outputs": [
        {
          "output_type": "stream",
          "name": "stdout",
          "text": [
            "[4105.8312145]\n"
          ]
        }
      ]
    },
    {
      "cell_type": "markdown",
      "metadata": {
        "id": "TgVBxD9rfpdD"
      },
      "source": [
        "### Conclusão:\n",
        "\n",
        "Dentre os 4 modelos utilizados, aquele que apresentou um menor erro quanto a sua predição foi o modelo que relaciona a pressão sanguínea média com a progressão da diabetes. Ou seja, dentre ás variáveis de idade, pressão sanguínea média, medição de soro sanguíneo 1 e a união entre as duas últimas, a que irá prover uma melhor predição sera a variável de pressão sanguínea média."
      ]
    },
    {
      "cell_type": "markdown",
      "metadata": {
        "id": "UEAF0ZfliT9f"
      },
      "source": [
        "**Bibliografia**\n",
        "\n",
        "https://developers.google.com/machine-learning/crash-course/descending-into-ml/linear-regression"
      ]
    }
  ]
}